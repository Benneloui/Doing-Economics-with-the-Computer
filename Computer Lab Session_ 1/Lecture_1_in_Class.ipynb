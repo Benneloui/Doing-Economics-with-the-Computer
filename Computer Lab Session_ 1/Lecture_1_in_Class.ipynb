{
 "cells": [
  {
   "cell_type": "markdown",
   "metadata": {
    "collapsed": true
   },
   "source": [
    "# Lecture 7 - Class Notes - Solutions\n",
    "\n",
    "## Introduction to Python: Basics\n",
    "In this lecture we will cover variables, expressions, statements as well as the conditional execution. The below exercises aim to introduce the concepts.\n",
    "\n",
    "## Compulsory Readings\n",
    "Read chapter 1 - 3 in Severance (2016). The book is provided on Ilias.\n",
    "\n",
    "\n",
    "## Further Exercises\n",
    "Go through Lecture_7_Exercises on your own. Further practice by going through the exercises in chapters 1 - 3 in Severance (2016). Some solutions are available on Ilias. "
   ]
  },
  {
   "cell_type": "code",
   "execution_count": 34,
   "metadata": {},
   "outputs": [],
   "source": [
    "# A little helper function\n",
    "class StopExecution(Exception):\n",
    "    def _render_traceback_(self):\n",
    "        pass\n",
    "\n",
    "raise StopExecution"
   ]
  },
  {
   "cell_type": "code",
   "execution_count": 45,
   "metadata": {},
   "outputs": [],
   "source": [
    "print?"
   ]
  },
  {
   "cell_type": "markdown",
   "metadata": {},
   "source": [
    "## In Class Exercises\n",
    "### Exercise"
   ]
  },
  {
   "cell_type": "code",
   "execution_count": 1,
   "metadata": {},
   "outputs": [
    {
     "name": "stdout",
     "output_type": "stream",
     "text": [
      "Hello world\n",
      "Hello world\n",
      "123\n",
      "Hello world: Hello world\n",
      "Hello world 123 33 ok\n"
     ]
    }
   ],
   "source": [
    "# Printing something\n",
    "a = 123\n",
    "A = 'Hello world'\n",
    "print('Hello world')\n",
    "print(A)\n",
    "print(a)\n",
    "print('Hello world:', A)\n",
    "print(A, a, 33, 'ok')"
   ]
  },
  {
   "cell_type": "code",
   "execution_count": 2,
   "metadata": {},
   "outputs": [
    {
     "name": "stdout",
     "output_type": "stream",
     "text": [
      "Result 1:  26\n",
      "Result 2:  0.8571428571428571\n",
      "8\n",
      "2\n"
     ]
    }
   ],
   "source": [
    "# Basic mathematical operations \n",
    "a = 12\n",
    "b = 14\n",
    "c1 = a + b\n",
    "c2 = a / b\n",
    "\n",
    "print('Result 1: ' , c1)\n",
    "print('Result 2: ' , c2)\n",
    "\n",
    "print(2**3)\n",
    "print(50%4)"
   ]
  },
  {
   "cell_type": "code",
   "execution_count": 15,
   "metadata": {},
   "outputs": [
    {
     "name": "stdout",
     "output_type": "stream",
     "text": [
      "Hello world \t: 12\n",
      "Firms in sample:  100; Average profits (in 1000 USD):  593242.3 USD\n",
      "Total CEO's:      240, CEO's with MBA:  120\n"
     ]
    }
   ],
   "source": [
    "# Prettify the output\n",
    "print('Hello world: \\t', a)\n",
    "\n",
    "# print integer and float value \n",
    "print(\"Firms in sample: % 2d; Average profits (in 1000 USD): % 5.1f USD\" %(100, 593242.33333))  \n",
    "  \n",
    "# print integer value \n",
    "print(\"Total CEO's: % 8d, CEO's with MBA: % 2d\" %(240, 120)) \n"
   ]
  },
  {
   "cell_type": "markdown",
   "metadata": {},
   "source": [
    "### Hint on formatting with %:\n",
    "\n",
    "%s - String (or any object with a string representation, like numbers)\n",
    "\n",
    "%d - Integers\n",
    "\n",
    "%f - Floating point numbers\n",
    "\n",
    "%.number of digits f - Floating point numbers with a fixed amount of digits to the right of the dot."
   ]
  },
  {
   "cell_type": "code",
   "execution_count": 11,
   "metadata": {},
   "outputs": [
    {
     "name": "stdout",
     "output_type": "stream",
     "text": [
      "0\n",
      "1\n",
      "2\n",
      "3\n",
      "4\n",
      "5\n",
      "6\n",
      "7\n",
      "8\n",
      "9\n"
     ]
    }
   ],
   "source": [
    "# Example 4 in Lecture 2 \n",
    "for i in range(10): \n",
    "    print(i)"
   ]
  },
  {
   "cell_type": "code",
   "execution_count": 12,
   "metadata": {},
   "outputs": [
    {
     "name": "stdout",
     "output_type": "stream",
     "text": [
      "What is your name? Lucas\n",
      "Hello Lucas\n"
     ]
    }
   ],
   "source": [
    "name = input('What is your name? ')\n",
    "print('Hello', name)"
   ]
  },
  {
   "cell_type": "markdown",
   "metadata": {},
   "source": [
    "### Exercise"
   ]
  },
  {
   "cell_type": "code",
   "execution_count": 17,
   "metadata": {},
   "outputs": [
    {
     "name": "stdout",
     "output_type": "stream",
     "text": [
      "Enter Number to calculate sum: asdf\n"
     ]
    },
    {
     "ename": "ValueError",
     "evalue": "invalid literal for int() with base 10: 'asdf'",
     "output_type": "error",
     "traceback": [
      "\u001b[0;31m---------------------------------------------------------------------------\u001b[0m",
      "\u001b[0;31mValueError\u001b[0m                                Traceback (most recent call last)",
      "\u001b[0;32m<ipython-input-17-1f10daa1cab5>\u001b[0m in \u001b[0;36m<module>\u001b[0;34m\u001b[0m\n\u001b[1;32m      9\u001b[0m \u001b[0;34m\u001b[0m\u001b[0m\n\u001b[1;32m     10\u001b[0m \u001b[0mn\u001b[0m \u001b[0;34m=\u001b[0m \u001b[0minput\u001b[0m\u001b[0;34m(\u001b[0m\u001b[0;34m\"Enter Number to calculate sum: \"\u001b[0m\u001b[0;34m)\u001b[0m\u001b[0;34m\u001b[0m\u001b[0;34m\u001b[0m\u001b[0m\n\u001b[0;32m---> 11\u001b[0;31m \u001b[0mn\u001b[0m \u001b[0;34m=\u001b[0m \u001b[0mint\u001b[0m \u001b[0;34m(\u001b[0m\u001b[0mn\u001b[0m\u001b[0;34m)\u001b[0m\u001b[0;34m\u001b[0m\u001b[0;34m\u001b[0m\u001b[0m\n\u001b[0m\u001b[1;32m     12\u001b[0m \u001b[0maverage\u001b[0m \u001b[0;34m=\u001b[0m \u001b[0;36m0\u001b[0m\u001b[0;34m\u001b[0m\u001b[0;34m\u001b[0m\u001b[0m\n\u001b[1;32m     13\u001b[0m \u001b[0msum\u001b[0m \u001b[0;34m=\u001b[0m \u001b[0;36m0\u001b[0m\u001b[0;34m\u001b[0m\u001b[0;34m\u001b[0m\u001b[0m\n",
      "\u001b[0;31mValueError\u001b[0m: invalid literal for int() with base 10: 'asdf'"
     ]
    }
   ],
   "source": [
    "# This Python program allows the user to enter the number (n) he wishes to calculate the sum of. \n",
    "# The program accepts user input using the input function.\n",
    "# Next, the user has to enter the individual number up to a declared number.\n",
    "# Iterate till the entered number using the for loop and range() function.\n",
    "# Next, calculate the sum using a sum = sum + current number formula.\n",
    "# Later calculate the average using sum / n. \n",
    "# n is a number entered by the user.\n",
    "# https://pynative.com/python-data-structure-exercise-for-beginners/\n",
    "    \n",
    "n = input(\"Enter Number to calculate sum: \")\n",
    "n = int (n)\n",
    "average = 0\n",
    "sum = 0\n",
    "\n",
    "for num in range(0,n+1,1): #(start, stop, step)\n",
    "    print(num)\n",
    "    sum = sum+num\n",
    "    \n",
    "\n",
    "print(\"SUM of first \", n, \"numbers is: \", sum )\n"
   ]
  },
  {
   "cell_type": "markdown",
   "metadata": {},
   "source": [
    "## Exercise"
   ]
  },
  {
   "cell_type": "code",
   "execution_count": 18,
   "metadata": {},
   "outputs": [
    {
     "name": "stdout",
     "output_type": "stream",
     "text": [
      "calculate an average of first n natural numbers\n",
      "Enter Number 3\n",
      "Average of first  3 number is:  2.0\n"
     ]
    }
   ],
   "source": [
    "## As above, calculate the average using sum / n. \n",
    "# n is a number entered by the user.\n",
    "# https://pynative.com/python-data-structure-exercise-for-beginners/\n",
    "print (\"calculate an average of first n natural numbers\")\n",
    "n = input(\"Enter Number \")\n",
    "n = int (n)\n",
    "average = 0\n",
    "sum = 0\n",
    "\n",
    "for num in range(0,n+1,1):\n",
    "    sum = sum+num;\n",
    "    \n",
    "average = sum / n    \n",
    "print(\"Average of first \", n, \"number is: \", average)"
   ]
  },
  {
   "cell_type": "markdown",
   "metadata": {},
   "source": [
    "### Exercise"
   ]
  },
  {
   "cell_type": "code",
   "execution_count": 19,
   "metadata": {},
   "outputs": [
    {
     "name": "stdout",
     "output_type": "stream",
     "text": [
      "Sum of list element is :  7\n",
      "Average of list element is  2.3333333333333335\n"
     ]
    }
   ],
   "source": [
    "## Some more basics\n",
    "\n",
    "# Let say you have a list of numbers and you want to calculate the sum of numbers present in the list.\n",
    "# All you need to do is to iterate a list using a for loop and add each number to a sum variable.\n",
    "# Calculate the length of a given list(total numbers in a list) and divide the sum by total length to \n",
    "# calculate average.\n",
    "# https://pynative.com/python-data-structure-exercise-for-beginners/\n",
    "\n",
    "sum = 0\n",
    "numbers = [1,2,3]\n",
    "for number in numbers:\n",
    "    sum = sum + number\n",
    "\n",
    "average  = sum / len(numbers)\n",
    "print (\"Sum of list element is : \", sum)\n",
    "print (\"Average of list element is \", average )"
   ]
  },
  {
   "cell_type": "markdown",
   "metadata": {},
   "source": [
    "### Exercise"
   ]
  },
  {
   "cell_type": "code",
   "execution_count": 21,
   "metadata": {},
   "outputs": [
    {
     "name": "stdout",
     "output_type": "stream",
     "text": [
      "Enter Number 18\n",
      "Result:  6\n"
     ]
    }
   ],
   "source": [
    "# Write a Python program to get the difference between a given number and 15, \n",
    "# if the number is greater than 15 return double the absolute difference.\n",
    "\n",
    "n = input(\"Enter Number \")\n",
    "n = int (n)\n",
    "\n",
    "\n",
    "if n <= 15:\n",
    "    result = 15 - n\n",
    "else:\n",
    "    result = (n - 15) * 2 \n",
    "\n",
    "print('Result: ', result)"
   ]
  },
  {
   "cell_type": "markdown",
   "metadata": {},
   "source": [
    "### Exercise"
   ]
  },
  {
   "cell_type": "code",
   "execution_count": 25,
   "metadata": {},
   "outputs": [
    {
     "name": "stdout",
     "output_type": "stream",
     "text": [
      "Enter Hours: 1\n",
      "Enter Rate: 1\n",
      "Pay:  1.0\n"
     ]
    }
   ],
   "source": [
    "\"\"\"\n",
    "Write a program to prompt the user for hours and rate per hour to compute gross pay\n",
    "\n",
    "Enter Hours: 35\n",
    "Enter Rate: 2.75\n",
    "Pay: 96.25\n",
    "\n",
    "Python for Everybody: Exploring Data Using Python 3\n",
    "by Charles R. Severance\n",
    "\n",
    "Solution by Jamison Lahman, May 28, 2017\n",
    "\"\"\"\n",
    "pay = 0.0                                   # Initialize variables\n",
    "\n",
    "hours = float(input('Enter Hours: '))\n",
    "rate = float(input('Enter Rate: '))\n",
    "\n",
    "#hours = float(input_hours)                  # Only allows input floats\n",
    "#rate = float(input_rate)                    # Only allows input floats\n",
    "\n",
    "pay = rate * hours                          # No overtime calculation\n",
    "\n",
    "print('Pay: ', pay)\n",
    "\n"
   ]
  },
  {
   "cell_type": "markdown",
   "metadata": {},
   "source": [
    "### Exercise"
   ]
  },
  {
   "cell_type": "code",
   "execution_count": 27,
   "metadata": {},
   "outputs": [
    {
     "name": "stdout",
     "output_type": "stream",
     "text": [
      "Enter Hours: asdf\n",
      "Enter Rate: asdf\n"
     ]
    },
    {
     "ename": "ValueError",
     "evalue": "could not convert string to float: 'asdf'",
     "output_type": "error",
     "traceback": [
      "\u001b[0;31m---------------------------------------------------------------------------\u001b[0m",
      "\u001b[0;31mValueError\u001b[0m                                Traceback (most recent call last)",
      "\u001b[0;32m<ipython-input-27-0c237e0a1806>\u001b[0m in \u001b[0;36m<module>\u001b[0;34m\u001b[0m\n\u001b[1;32m     16\u001b[0m \u001b[0minput_hours\u001b[0m \u001b[0;34m=\u001b[0m \u001b[0minput\u001b[0m\u001b[0;34m(\u001b[0m\u001b[0;34m'Enter Hours: '\u001b[0m\u001b[0;34m)\u001b[0m\u001b[0;34m\u001b[0m\u001b[0;34m\u001b[0m\u001b[0m\n\u001b[1;32m     17\u001b[0m \u001b[0minput_rate\u001b[0m \u001b[0;34m=\u001b[0m \u001b[0minput\u001b[0m\u001b[0;34m(\u001b[0m\u001b[0;34m'Enter Rate: '\u001b[0m\u001b[0;34m)\u001b[0m\u001b[0;34m\u001b[0m\u001b[0;34m\u001b[0m\u001b[0m\n\u001b[0;32m---> 18\u001b[0;31m \u001b[0mhours\u001b[0m \u001b[0;34m=\u001b[0m \u001b[0mfloat\u001b[0m\u001b[0;34m(\u001b[0m\u001b[0minput_hours\u001b[0m\u001b[0;34m)\u001b[0m                  \u001b[0;31m# Only allows input floats\u001b[0m\u001b[0;34m\u001b[0m\u001b[0;34m\u001b[0m\u001b[0m\n\u001b[0m\u001b[1;32m     19\u001b[0m \u001b[0mrate\u001b[0m \u001b[0;34m=\u001b[0m \u001b[0mfloat\u001b[0m\u001b[0;34m(\u001b[0m\u001b[0minput_rate\u001b[0m\u001b[0;34m)\u001b[0m                    \u001b[0;31m# Only allows input floats\u001b[0m\u001b[0;34m\u001b[0m\u001b[0;34m\u001b[0m\u001b[0m\n\u001b[1;32m     20\u001b[0m \u001b[0;34m\u001b[0m\u001b[0m\n",
      "\u001b[0;31mValueError\u001b[0m: could not convert string to float: 'asdf'"
     ]
    }
   ],
   "source": [
    "\"\"\"\n",
    "Exercise 3.1: Rewrite your pay computation to give the employee 1.5 times the\n",
    "rate for hours worked above 40 hours.\n",
    "\n",
    "Enter Hours: 45\n",
    "Enter Rate: 10\n",
    "Pay: 475.0\n",
    "\n",
    "Python for Everybody: Exploring Data Using Python 3\n",
    "by Charles R. Severance\n",
    "\n",
    "Solution by Jamison Lahman, May 28, 2017\n",
    "\"\"\"\n",
    "pay = 0.0                                   # Initialize variables\n",
    "\n",
    "input_hours = input('Enter Hours: ')\n",
    "input_rate = input('Enter Rate: ')\n",
    "hours = float(input_hours)                  # Only allows input floats\n",
    "rate = float(input_rate)                    # Only allows input floats\n",
    "\n",
    "if hours < 40:\n",
    "    pay = rate * hours                      # No overtime calculation\n",
    "else:\n",
    "    overtime = hours - 40                   # Calculate amount of overtime\n",
    "    pay = (rate * 40.0) + (1.5 * rate * overtime)\n",
    "\n",
    "print('Pay: ', pay)\n"
   ]
  },
  {
   "cell_type": "markdown",
   "metadata": {},
   "source": [
    "### Exercise"
   ]
  },
  {
   "cell_type": "code",
   "execution_count": 33,
   "metadata": {},
   "outputs": [
    {
     "name": "stdout",
     "output_type": "stream",
     "text": [
      "Enter Hours: 123a\n",
      "Error, please enter numeric input\n"
     ]
    }
   ],
   "source": [
    "\"\"\"\n",
    "Exercise 3.2: Rewrite your pay program using try and except so that your\n",
    "program handles non-numerical input gracefully by printing a message and\n",
    "exiting the program. The folowing shows two executions of the program:\n",
    "\n",
    "Enter Hours: 20\n",
    "Enter Rate : nine\n",
    "Error, please enter numeric input\n",
    "\n",
    "Enter Hours: forty\n",
    "Error, please enter numeric input\n",
    "\n",
    "Python for Everybody: Exploring Data Using Python 3\n",
    "by Charles R. Severance\n",
    "\n",
    "Solution by Jamison Lahman, May 28, 2017\n",
    "\"\"\"\n",
    "hours = 0.0                                 # Initialize variables\n",
    "rate = 0.0\n",
    "pay = 0.0\n",
    "\n",
    "input_hours = input('Enter Hours: ')\n",
    "try:\n",
    "    hours = float(input_hours)              # Only allows input floats\n",
    "except ValueError:\n",
    "    print('Error, please enter numeric input')\n",
    "    raise StopExecution\n",
    "\n",
    "input_rate = input('Enter Rate: ')\n",
    "try:\n",
    "    rate = float(input_rate)                # Only allows input floats\n",
    "except ValueError:\n",
    "    print('Error, please enter numeric input')\n",
    "    raise StopExecution    \n",
    "\n",
    "if hours < 40:\n",
    "    pay = rate * hours                      # No overtime calculation\n",
    "else:\n",
    "    overtime = hours - 40                   # Calculate amount of overtime\n",
    "    pay = (rate * 40.0) + (1.5 * rate * overtime)\n",
    "\n",
    "print('Pay: ', pay)"
   ]
  },
  {
   "cell_type": "markdown",
   "metadata": {},
   "source": [
    "### Exercise"
   ]
  },
  {
   "cell_type": "code",
   "execution_count": 44,
   "metadata": {},
   "outputs": [
    {
     "name": "stdout",
     "output_type": "stream",
     "text": [
      "Enter score: 0.8\n",
      "B\n"
     ]
    }
   ],
   "source": [
    "\"\"\"\n",
    "Exercise 3.Write a program to prompt for a score between 0.0 and 1.0. If the\n",
    "score is out of range, print an error message. If the score is between 0.0 and\n",
    "1.0, print a grade using the following table:\n",
    "Score    Grade\n",
    ">= 0.9      A\n",
    ">= 0.8      B\n",
    ">= 0.7      C\n",
    ">= 0.6      D\n",
    "< 0.6      F\n",
    "~~~\n",
    "\n",
    "Enter score: perfect\n",
    "Bad score\n",
    "\n",
    "Enter score: 10.0\n",
    "Bad score\n",
    "\n",
    "Enter score: 0.75\n",
    "C\n",
    "\n",
    "Enter score: 0.5\n",
    "F\n",
    "\n",
    "Run the program repeatedly as shown above to test the various, different\n",
    "values for input.\n",
    "\n",
    "Python for Everybody: Exploring Data Using Python 3\n",
    "by Charles R. Severance\n",
    "\n",
    "Solution by Jamison Lahman, May 28, 2017\n",
    "\"\"\"\n",
    "score = 0.0                                # Initialize variables\n",
    "grade = \"\"\n",
    "\n",
    "input1 = input('Enter score: ')\n",
    "try:\n",
    "    score = float(input1)                  # Only allows input floats\n",
    "except ValueError:\n",
    "    print('Bad score')\n",
    "    raise StopExecution\n",
    "\n",
    "if 0.0 <= score <= 1.0:                    # Scores must be between 0.0 and 1.0\n",
    "    if score >= 0.9:\n",
    "        grade = 'A'\n",
    "    elif score >= 0.8:\n",
    "        grade = 'B'\n",
    "    elif score >= 0.7:\n",
    "        grade = 'C'\n",
    "    elif score >= 0.6:\n",
    "        grade = 'D'\n",
    "    else:\n",
    "        grade = 'F'\n",
    "else:\n",
    "    grade = 'Bad score'\n",
    "\n",
    "print(grade)\n"
   ]
  },
  {
   "cell_type": "markdown",
   "metadata": {},
   "source": [
    "### Excercise from Class\n",
    "To illustrate whether want to stop execution or not"
   ]
  },
  {
   "cell_type": "code",
   "execution_count": 40,
   "metadata": {},
   "outputs": [
    {
     "name": "stdout",
     "output_type": "stream",
     "text": [
      "Hello\n",
      "Done -1\n"
     ]
    }
   ],
   "source": [
    "astr = 'Bob'\n",
    "try: \n",
    "    print('Hello')\n",
    "    istr=int(astr)\n",
    "    print('There')\n",
    "except: \n",
    "    istr = -1\n",
    "        \n",
    "print('Done',istr)"
   ]
  },
  {
   "cell_type": "code",
   "execution_count": 41,
   "metadata": {},
   "outputs": [
    {
     "name": "stdout",
     "output_type": "stream",
     "text": [
      "Hello\n"
     ]
    }
   ],
   "source": [
    "astr = 'Bob'\n",
    "try: \n",
    "    print('Hello')\n",
    "    istr=int(astr)\n",
    "    print('There')\n",
    "except: \n",
    "    istr = -1\n",
    "    raise StopExecution\n",
    "    \n",
    "print('Done',istr)\n"
   ]
  },
  {
   "cell_type": "code",
   "execution_count": null,
   "metadata": {},
   "outputs": [],
   "source": []
  }
 ],
 "metadata": {
  "kernelspec": {
   "display_name": "Python 3",
   "language": "python",
   "name": "python3"
  },
  "language_info": {
   "codemirror_mode": {
    "name": "ipython",
    "version": 3
   },
   "file_extension": ".py",
   "mimetype": "text/x-python",
   "name": "python",
   "nbconvert_exporter": "python",
   "pygments_lexer": "ipython3",
   "version": "3.7.4"
  },
  "toc": {
   "base_numbering": 1,
   "nav_menu": {},
   "number_sections": true,
   "sideBar": true,
   "skip_h1_title": false,
   "title_cell": "Table of Contents",
   "title_sidebar": "Contents",
   "toc_cell": false,
   "toc_position": {},
   "toc_section_display": true,
   "toc_window_display": false
  },
  "varInspector": {
   "cols": {
    "lenName": 16,
    "lenType": 16,
    "lenVar": 40
   },
   "kernels_config": {
    "python": {
     "delete_cmd_postfix": "",
     "delete_cmd_prefix": "del ",
     "library": "var_list.py",
     "varRefreshCmd": "print(var_dic_list())"
    },
    "r": {
     "delete_cmd_postfix": ") ",
     "delete_cmd_prefix": "rm(",
     "library": "var_list.r",
     "varRefreshCmd": "cat(var_dic_list()) "
    }
   },
   "position": {
    "height": "224.85px",
    "left": "1070px",
    "right": "20px",
    "top": "120px",
    "width": "350px"
   },
   "types_to_exclude": [
    "module",
    "function",
    "builtin_function_or_method",
    "instance",
    "_Feature"
   ],
   "window_display": false
  }
 },
 "nbformat": 4,
 "nbformat_minor": 1
}
