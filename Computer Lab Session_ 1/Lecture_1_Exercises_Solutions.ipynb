{
 "cells": [
  {
   "cell_type": "markdown",
   "metadata": {},
   "source": [
    "# Lecture 7 Exercises: Solutions\n",
    "\n",
    "Go through the below exercises. \n",
    "\n",
    "## Useful hint\n",
    "Since we have already covered matlab, you may want to compare the commands from matlab to python. There are many helpful resources, such as: \n",
    "\n",
    "- https://cheatsheets.quantecon.org/\n",
    "\n",
    "- http://mathesaurus.sourceforge.net/matlab-numpy.html"
   ]
  },
  {
   "cell_type": "markdown",
   "metadata": {},
   "source": [
    "## Exercises"
   ]
  },
  {
   "cell_type": "code",
   "execution_count": 1,
   "metadata": {},
   "outputs": [
    {
     "name": "stdout",
     "output_type": "stream",
     "text": [
      "3\n",
      "3.0\n",
      "12\n",
      "2\n",
      "36\n"
     ]
    }
   ],
   "source": [
    "# Create 5 new variables, a=1,b=2,c=3,d=4,e=5,f=6. \n",
    "\n",
    "a = 1\n",
    "b = 2\n",
    "c = 3\n",
    "d = 4\n",
    "e = 5\n",
    "f = 6\n",
    "\n",
    "# For the following, perform the tasks and print the output (don't create a new variable containing the result)\n",
    "# Add a and b\n",
    "print(a+b) \n",
    "\n",
    "# Divide f by b\n",
    "print(f / b)\n",
    "\n",
    "# Multiply c and d\n",
    "print(c * d)\n",
    "\n",
    "# Substract b from d\n",
    "print(d-b)\n",
    "\n",
    "# Exponentiate f by b\n",
    "print (f**b)"
   ]
  },
  {
   "cell_type": "markdown",
   "metadata": {},
   "source": [
    "# Exercise"
   ]
  },
  {
   "cell_type": "code",
   "execution_count": 1,
   "metadata": {},
   "outputs": [
    {
     "name": "stdout",
     "output_type": "stream",
     "text": [
      "hello world\n"
     ]
    }
   ],
   "source": [
    "# Create a string h containing the word hello and a string w containting the word world. \n",
    "# then print them via string concatenation. \n",
    "\n",
    "h = \"hello\"   \n",
    "w = \"world\"\n",
    "\n",
    "hw = h + ' ' + w  # String concatenation\n",
    "print(hw) # prints \"hello world\""
   ]
  },
  {
   "cell_type": "markdown",
   "metadata": {},
   "source": [
    "# Exercise"
   ]
  },
  {
   "cell_type": "code",
   "execution_count": 5,
   "metadata": {},
   "outputs": [
    {
     "name": "stdout",
     "output_type": "stream",
     "text": [
      "First Name: A\n",
      "Last Name: K\n",
      "Hello there  A K\n"
     ]
    }
   ],
   "source": [
    "# Ask the user to put in the first name\n",
    "# Ask the user to put in the last name\n",
    "# Then print Hello Firstname, LastName. \n",
    "\n",
    "firstName = input('First Name: ')\n",
    "lastName = input('Last Name: ')\n",
    "print('Hello there ', firstName, lastName)\n"
   ]
  },
  {
   "cell_type": "markdown",
   "metadata": {},
   "source": [
    "# Exercise"
   ]
  },
  {
   "cell_type": "code",
   "execution_count": 7,
   "metadata": {},
   "outputs": [
    {
     "name": "stdout",
     "output_type": "stream",
     "text": [
      "2\n",
      "4\n",
      "8\n",
      "16\n",
      "32\n",
      "64\n",
      "128\n",
      "256\n",
      "512\n",
      "1024\n"
     ]
    }
   ],
   "source": [
    "# Write a for loop that runs from 1 to 10 and prints x^i, with x being 2.\n",
    "# Note: Use the function range. \n",
    "# To correctly use it, use help(range) to look up what the function does!\n",
    "x = 2\n",
    "\n",
    "for i in range(1,11): \n",
    "    l = x**i\n",
    "    print(l)"
   ]
  },
  {
   "cell_type": "markdown",
   "metadata": {},
   "source": [
    "# Exercise"
   ]
  },
  {
   "cell_type": "code",
   "execution_count": 8,
   "metadata": {},
   "outputs": [
    {
     "name": "stdout",
     "output_type": "stream",
     "text": [
      "1.0\n",
      "1.4142135623730951\n",
      "1.7320508075688772\n",
      "2.0\n",
      "2.23606797749979\n",
      "2.449489742783178\n",
      "2.6457513110645907\n",
      "2.8284271247461903\n",
      "3.0\n",
      "3.1622776601683795\n"
     ]
    }
   ],
   "source": [
    "# Write a for loop that runs from 1 to 10 and prints the square-root of i.\n",
    "# Note: Use the function range. \n",
    "# Note: you have to import the library math\n",
    "\n",
    "import math\n",
    "\n",
    "for i in range(1,11): \n",
    "    print(math.sqrt(i))"
   ]
  },
  {
   "cell_type": "markdown",
   "metadata": {},
   "source": [
    "# Exercise\n",
    "Consider the geometric series x(n) = q^n−1 for n=1,2,3,... ."
   ]
  },
  {
   "cell_type": "code",
   "execution_count": 8,
   "metadata": {},
   "outputs": [
    {
     "name": "stdout",
     "output_type": "stream",
     "text": [
      "1.0\n",
      "0.5\n",
      "0.25\n",
      "0.125\n",
      "0.0625\n",
      "0.03125\n",
      "0.015625\n",
      "0.0078125\n",
      "0.00390625\n",
      "0.001953125\n"
     ]
    }
   ],
   "source": [
    "# Print the values of the series for n = 1:10, q = 0.5\n",
    "\n",
    "q=0.5\n",
    "for n in range(1,11):\n",
    "    print(q**(n-1))\n",
    "    "
   ]
  },
  {
   "cell_type": "code",
   "execution_count": 2,
   "metadata": {},
   "outputs": [
    {
     "name": "stdout",
     "output_type": "stream",
     "text": [
      "[1.0, 0.5, 0.25, 0.125, 0.0625, 0.03125, 0.015625, 0.0078125, 0.00390625, 0.001953125]\n"
     ]
    }
   ],
   "source": [
    "# Using a list:\n",
    "q=0.5\n",
    "    \n",
    "x = []\n",
    "for i in range(1,11):\n",
    "    x.append(q**(i-1))\n",
    "print(x)"
   ]
  },
  {
   "cell_type": "markdown",
   "metadata": {},
   "source": [
    "# Exercise"
   ]
  },
  {
   "cell_type": "code",
   "execution_count": 6,
   "metadata": {},
   "outputs": [
    {
     "name": "stdout",
     "output_type": "stream",
     "text": [
      "Enter a number: -1\n",
      "Silly, not a (positive) number\n"
     ]
    }
   ],
   "source": [
    "# Write a piece of code that asks the user to enter a POSITIVE  number. \n",
    "# if the user does not enter a POSITIVE number, let the user know. \n",
    "\n",
    "rawstr = input('Enter a number: ')\n",
    "try: \n",
    "    ival = int(rawstr)\n",
    "except:\n",
    "       ival = -1\n",
    "        \n",
    "if ival > 0 :\n",
    "    print('Nice work')\n",
    "else: \n",
    "    print('Silly, not a (positive) number')\n",
    "    \n",
    "        "
   ]
  }
 ],
 "metadata": {
  "kernelspec": {
   "display_name": "Python 3",
   "language": "python",
   "name": "python3"
  },
  "language_info": {
   "codemirror_mode": {
    "name": "ipython",
    "version": 3
   },
   "file_extension": ".py",
   "mimetype": "text/x-python",
   "name": "python",
   "nbconvert_exporter": "python",
   "pygments_lexer": "ipython3",
   "version": "3.7.4"
  },
  "toc": {
   "base_numbering": 1,
   "nav_menu": {},
   "number_sections": true,
   "sideBar": true,
   "skip_h1_title": false,
   "title_cell": "Table of Contents",
   "title_sidebar": "Contents",
   "toc_cell": false,
   "toc_position": {},
   "toc_section_display": true,
   "toc_window_display": false
  },
  "varInspector": {
   "cols": {
    "lenName": 16,
    "lenType": 16,
    "lenVar": 40
   },
   "kernels_config": {
    "python": {
     "delete_cmd_postfix": "",
     "delete_cmd_prefix": "del ",
     "library": "var_list.py",
     "varRefreshCmd": "print(var_dic_list())"
    },
    "r": {
     "delete_cmd_postfix": ") ",
     "delete_cmd_prefix": "rm(",
     "library": "var_list.r",
     "varRefreshCmd": "cat(var_dic_list()) "
    }
   },
   "types_to_exclude": [
    "module",
    "function",
    "builtin_function_or_method",
    "instance",
    "_Feature"
   ],
   "window_display": false
  }
 },
 "nbformat": 4,
 "nbformat_minor": 2
}
