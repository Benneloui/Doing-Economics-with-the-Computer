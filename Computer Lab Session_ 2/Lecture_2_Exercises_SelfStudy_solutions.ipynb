{
 "cells": [
  {
   "cell_type": "markdown",
   "metadata": {},
   "source": [
    "# Exercises for Lecture 8: Exercises for self study SOLUTIONS\n",
    "\n",
    "Exercises / ideas are borrowed from \n",
    "- https://pynative.com/python-basic-exercise-for-beginners/\n",
    "- https://programmingwithmosh.com/python/python-exercises-and-questions-for-beginners/\n",
    "\n",
    "You should make sure to understand the below exercises (and solve them on your own)."
   ]
  },
  {
   "cell_type": "markdown",
   "metadata": {},
   "source": [
    "# Exercise\n",
    "\n",
    "Consider the function below which should print a list from 0 to n, i.e. \n",
    "if print_numbers(n) then the output should be [0, 1, 2, ..., n].\n",
    "\n",
    "Find the mistakes to make the function perform its intended task correctly. "
   ]
  },
  {
   "cell_type": "code",
   "execution_count": null,
   "metadata": {},
   "outputs": [],
   "source": [
    "def print_numbers(n):\n",
    "\n",
    "    numberList = []\n",
    "\n",
    "    # iterating till the range \n",
    "    for i in range(0, n): # range(0, n) may be useful in the exercises below.\n",
    "        ele = i \n",
    "    numberList.append(ele)\n",
    "\n",
    "    print(numberList)\n",
    "\n",
    "print_numbers(3)"
   ]
  },
  {
   "cell_type": "markdown",
   "metadata": {},
   "source": [
    " # Exercise\n",
    " \n",
    "Write a function print_half_pyramid that prints the following pattern if you execute print_half_pyramid(5):\n",
    "\n",
    "1 \n",
    "\n",
    "2 2 \n",
    "\n",
    "3 3 3 \n",
    "\n",
    "4 4 4 4 \n",
    "\n"
   ]
  },
  {
   "cell_type": "code",
   "execution_count": null,
   "metadata": {},
   "outputs": [],
   "source": [
    "def print_half_pyramid(n):\n",
    "    for num in range(n):\n",
    "        for i in range(num):\n",
    "            print (num, end=\" \") #print number\n",
    "            # new line after each row to display pattern correctly\n",
    "        print(\"\\n\")\n",
    "        \n",
    "print_half_pyramid(5)"
   ]
  },
  {
   "cell_type": "markdown",
   "metadata": {},
   "source": [
    "# Exercise\n",
    "Write a function that accepts a string from the user and display \n",
    "only those characters which are present at an even index"
   ]
  },
  {
   "cell_type": "code",
   "execution_count": null,
   "metadata": {},
   "outputs": [],
   "source": [
    "def printEveIndexChar(str):\n",
    "    for i in range(0, len(str), 2):\n",
    "        print(\"index[\",i,\"]\", str[i] )\n",
    "\n",
    "inputStr = input(\"Enter String \")\n",
    "print(\"Orginal String is \", inputStr)\n",
    "\n",
    "print(\"Printing only even index chars\")\n",
    "\n",
    "printEveIndexChar(inputStr)"
   ]
  },
  {
   "cell_type": "markdown",
   "metadata": {},
   "source": [
    " # Exercise\n",
    " \n",
    "Write a function called three_five that takes a number.\n",
    "- If the number is divisible by 3, it should return “Div 3”.\n",
    "- If it is divisible by 5, it should return “Div 5”.\n",
    "- If it is divisible by both 3 and 5, it should return “Div 3 and Div 5”.\n",
    "- Otherwise, it should return the same number.\n",
    "\n",
    "Hint: to check if a number is divisible by another number, use the remainder operator %. "
   ]
  },
  {
   "cell_type": "code",
   "execution_count": null,
   "metadata": {},
   "outputs": [],
   "source": [
    "def three_five(n):\n",
    "\n",
    "    if (n % 5 == 0 and n % 3 == 0):\n",
    "        print (\"Div 3 and Div 5\")\n",
    "    elif (n % 5 == 0):\n",
    "        print(\"Div 5\")\n",
    "    elif (n % 3 == 0):\n",
    "        print(\"Div 3\")\n",
    "    else:\n",
    "        print(n)\n",
    "        \n",
    "three_five(3)\n",
    "three_five(5)\n",
    "three_five(15)\n",
    "three_five(4)"
   ]
  },
  {
   "cell_type": "markdown",
   "metadata": {},
   "source": [
    " # Exercise\n",
    " Write a function for checking the speed of drivers. This function should have one parameter: speed.\n",
    "- If speed is less than 70, it should print “Ok”.\n",
    "- Otherwise, for every 5km/h above the speed limit of 70 km/h, it should give the driver one point and print the total number of points. For example, if the speed is 80, it should print: “Points: 2”.\n",
    "- If the driver gets more than 12 points, the function should print: “License suspended”\n",
    "\n",
    "Hint: import math and use the function floor. "
   ]
  },
  {
   "cell_type": "code",
   "execution_count": null,
   "metadata": {},
   "outputs": [],
   "source": [
    "import math\n",
    "\n",
    "def check_speed(speed):\n",
    "    if speed < 70:\n",
    "        print(\"OK\")\n",
    "    else:\n",
    "        points = math.floor((speed-70)/5)\n",
    "        if points < 12:\n",
    "            print(\"Points:\", points)\n",
    "        else:\n",
    "            print(\"License suspended\")\n",
    "            \n",
    "\n",
    "check_speed(10)\n",
    "check_speed(60)\n",
    "check_speed(70)\n",
    "check_speed(80)\n",
    "check_speed(90)\n",
    "check_speed(93)\n",
    "check_speed(130)\n",
    "check_speed(140)\n",
    "check_speed(150)\n",
    "        "
   ]
  },
  {
   "cell_type": "markdown",
   "metadata": {},
   "source": [
    "# Exercise\n",
    "Use the above function such that the user can input the currency, amount, and the fx_rate. Hint: You don't need to handle wrong inputs. "
   ]
  },
  {
   "cell_type": "code",
   "execution_count": null,
   "metadata": {},
   "outputs": [],
   "source": [
    "currency = str(input(\"Currency (USD or EUR): \"))\n",
    "amount = float(input(\"Amount: \"))\n",
    "fx_rate = float(input(\"Fx rate: \"))\n",
    "\n",
    "exchange_money(currency, amount, fx_rate)"
   ]
  },
  {
   "cell_type": "markdown",
   "metadata": {},
   "source": [
    "# Exercise\n",
    "Write a function has as input a word and a letter and then counts the number of times the given letter appears in the word."
   ]
  },
  {
   "cell_type": "code",
   "execution_count": null,
   "metadata": {},
   "outputs": [],
   "source": [
    "\"\"\"\n",
    "Exercise 6.3.\n",
    "\n",
    "Python for Everybody: Exploring Data Using Python 3\n",
    "by Charles R. Severance\n",
    "\n",
    "Solution by Jamison Lahman, May 31, 2017\n",
    "\"\"\"\n",
    "\n",
    "def count(word, letter):\n",
    "    \"\"\"\"\n",
    "    Counts the number of times a given letter appears in a word\n",
    "    Input:  word -- the word in question\n",
    "            letter -- the letter in the word to count\n",
    "    Output:prints the number of letters\n",
    "    \"\"\"\n",
    "    counter = 0\n",
    "\n",
    "    for character in word:\n",
    "        if character == letter:\n",
    "            counter = counter + 1\n",
    "    print(counter)\n",
    "\n",
    "input_word = input('Enter the word: ')\n",
    "input_letter = input('Enter the letter: ')\n",
    "count(input_word, input_letter)\n"
   ]
  },
  {
   "cell_type": "markdown",
   "metadata": {},
   "source": [
    "# Exercise (Advanced)\n",
    "Write two functions. The function take_user_input_list asks the user to enter how many elements to enter, and then takes all the entered elements (integers) and stores them in a list. The function returns that list. \n",
    "\n",
    "The second function isFirst_And_Last_Same, given the input data from the user (via above function), returns True if the first and last number of a list is the same.\n",
    "\n",
    "Hint: \n",
    "* to create the list, use: numberList = [] \n",
    "* and to add an element use numberList.append(element)\n",
    "* to access the first element: numberList[0]\n",
    "* to access the last element: numberList[-1]"
   ]
  },
  {
   "cell_type": "code",
   "execution_count": null,
   "metadata": {},
   "outputs": [],
   "source": [
    "def take_user_input_list():\n",
    "    \n",
    "    # create an empty list \n",
    "    numberList = [] \n",
    "  \n",
    "    # number of elemetns as input \n",
    "    n = int(input(\"Enter number of elements: \")) \n",
    "    \n",
    "    # iterating till the range \n",
    "    for i in range(0, n): \n",
    "        ele = int(input(\"Enter number: \")) \n",
    "        numberList.append(ele) # adding the element \n",
    "        \n",
    "    return numberList\n",
    "\n",
    "def isFirst_And_Last_Same(numberList):\n",
    "    \n",
    "    firstElement = numberList[0]\n",
    "    lastElement =  numberList[-1]\n",
    "    \n",
    "    if(firstElement == lastElement):\n",
    "        return True\n",
    "    else:\n",
    "        return False\n",
    "\n",
    "print(\"The first and last number of a list is same\")\n",
    "print(\"result is\", isFirst_And_Last_Same(take_user_input_list()))"
   ]
  },
  {
   "cell_type": "markdown",
   "metadata": {},
   "source": [
    " # Exercise (long one, do it in the end)\n",
    " \n",
    "Write a function exchanged_money that takes in a certain amount of money, its currency, and an exchange rate. The base currency is CHF. \n",
    " \n",
    " - If the amount is in USD, it is exchanged into CHF, minus a fee of 2% of the initial amount in USD expressed in CHF. \n",
    "     - If the amount is over 50'000 USD, an additional fee of 4% is charged on the amount above said threshold.\n",
    " \n",
    " - If the amount is in EUR, it is exchanged into CHF, minus a fee of 3% of the initial amount in EUR expressed in CHF. \n",
    "     - If the amount is over 100'000 EUR, an additional fee of 5% is charged on the amount above said threshold.\n",
    "     \n",
    " - If the amount is in any other currency, the amount is not exchanged. \n",
    " \n",
    "Hint: You don't need to handle wrong inputs. "
   ]
  },
  {
   "cell_type": "code",
   "execution_count": null,
   "metadata": {},
   "outputs": [],
   "source": [
    " def exchange_money(currency, amount, fx_rate):\n",
    "    if currency==\"USD\":\n",
    "        if amount <= 50000:\n",
    "            amount_CHF = amount*fx_rate \n",
    "            fee_CHF = amount*0.02*fx_rate            \n",
    "        if amount > 50000:\n",
    "            amount_CHF = amount*fx_rate\n",
    "            fee_CHF = (amount*0.02 + (amount-50000)*0.04)*fx_rate\n",
    "    elif currency==\"EUR\":\n",
    "        if amount <= 100000:\n",
    "            amount_CHF = amount*fx_rate\n",
    "            fee_CHF = amount*0.03*fx_rate\n",
    "        if amount > 100000:\n",
    "            amount_CHF = amount*fx_rate \n",
    "            fee_CHF = (amount*0.03 + (amount-50000)*0.05)*fx_rate           \n",
    "    else: \n",
    "        print(\"Not exchanged\")\n",
    "    print(\"Initial amount: % 5.2f %s. Converted amount: % 5.2f CHF. Total fee: % 5.2f, net: % 5.2f\" %(amount, currency, amount_CHF, fee_CHF, amount_CHF-fee_CHF))\n",
    "\n",
    "exchange_money(\"USD\", 30000, 1.12)\n",
    "exchange_money(\"USD\", 50000, 1.0)\n",
    "exchange_money(\"USD\", 60000, 1.123)\n",
    "print(\"\\n\")\n",
    "exchange_money(\"EUR\", 30000, 1.123)\n",
    "exchange_money(\"EUR\", 50000, 1.123)\n",
    "exchange_money(\"EUR\", 100000, 1.123)\n",
    "exchange_money(\"EUR\", 120000, 1.123)"
   ]
  },
  {
   "cell_type": "code",
   "execution_count": null,
   "metadata": {},
   "outputs": [],
   "source": []
  }
 ],
 "metadata": {
  "kernelspec": {
   "display_name": "Python 3",
   "language": "python",
   "name": "python3"
  },
  "language_info": {
   "codemirror_mode": {
    "name": "ipython",
    "version": 3
   },
   "file_extension": ".py",
   "mimetype": "text/x-python",
   "name": "python",
   "nbconvert_exporter": "python",
   "pygments_lexer": "ipython3",
   "version": "3.7.4"
  },
  "toc": {
   "base_numbering": 1,
   "nav_menu": {},
   "number_sections": true,
   "sideBar": true,
   "skip_h1_title": false,
   "title_cell": "Table of Contents",
   "title_sidebar": "Contents",
   "toc_cell": false,
   "toc_position": {},
   "toc_section_display": true,
   "toc_window_display": false
  },
  "varInspector": {
   "cols": {
    "lenName": 16,
    "lenType": 16,
    "lenVar": 40
   },
   "kernels_config": {
    "python": {
     "delete_cmd_postfix": "",
     "delete_cmd_prefix": "del ",
     "library": "var_list.py",
     "varRefreshCmd": "print(var_dic_list())"
    },
    "r": {
     "delete_cmd_postfix": ") ",
     "delete_cmd_prefix": "rm(",
     "library": "var_list.r",
     "varRefreshCmd": "cat(var_dic_list()) "
    }
   },
   "types_to_exclude": [
    "module",
    "function",
    "builtin_function_or_method",
    "instance",
    "_Feature"
   ],
   "window_display": false
  }
 },
 "nbformat": 4,
 "nbformat_minor": 2
}
